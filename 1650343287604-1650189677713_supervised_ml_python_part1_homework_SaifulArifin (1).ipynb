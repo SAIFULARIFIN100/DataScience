{
  "cells": [
    {
      "cell_type": "code",
      "execution_count": 3,
      "id": "eb6a07ea",
      "metadata": {
        "id": "eb6a07ea"
      },
      "outputs": [],
      "source": [
        "import pandas as pd\n",
        "import numpy as np\n",
        "\n",
        "import matplotlib.pyplot as plt\n",
        "import seaborn as sns\n",
        "\n",
        "from datetime import datetime\n",
        "\n",
        "from sklearn.model_selection import train_test_split\n",
        "from sklearn.neighbors import KNeighborsClassifier\n",
        "from sklearn.linear_model import LogisticRegression\n",
        "from sklearn.tree import DecisionTreeClassifier\n",
        "\n",
        "from sklearn.metrics import accuracy_score\n",
        "from sklearn.metrics import classification_report\n",
        "from sklearn.metrics import confusion_matrix\n",
        "\n",
        "import warnings\n",
        "warnings.filterwarnings('ignore')"
      ]
    },
    {
      "cell_type": "markdown",
      "id": "3dfce884",
      "metadata": {
        "id": "3dfce884"
      },
      "source": [
        "### Importing Data"
      ]
    },
    {
      "cell_type": "code",
      "execution_count": 4,
      "id": "c9ae019a",
      "metadata": {
        "id": "c9ae019a"
      },
      "outputs": [],
      "source": [
        "df = pd.read_csv('supervised_ml_homework_data.csv', delimiter = ',')"
      ]
    },
    {
      "cell_type": "code",
      "execution_count": 5,
      "id": "6089e080",
      "metadata": {
        "colab": {
          "base_uri": "https://localhost:8080/",
          "height": 423
        },
        "id": "6089e080",
        "outputId": "7f2f8260-a8f5-4abc-e197-72cc6ec2b52b"
      },
      "outputs": [
        {
          "output_type": "execute_result",
          "data": {
            "text/plain": [
              "      initial_rate  length  width  height  speed  y\n",
              "0             0.12    5.87   7.31    9.61  24.47  0\n",
              "1             0.68    5.49   5.46    9.19  20.33  0\n",
              "2             1.86    6.03   5.89   10.75  22.60  0\n",
              "3             0.04    5.25   5.57   10.04  20.00  0\n",
              "4             0.28    6.63   6.17    9.90  21.74  0\n",
              "...            ...     ...    ...     ...    ... ..\n",
              "4995          2.00    3.97   8.12   10.11  28.39  0\n",
              "4996          1.39    5.84   5.41    6.83  20.90  0\n",
              "4997         -0.00    4.39   5.38   12.19  19.48  0\n",
              "4998          0.09    5.29   6.38   11.75  22.08  0\n",
              "4999          1.16    4.65   6.02    9.16  22.23  0\n",
              "\n",
              "[5000 rows x 6 columns]"
            ],
            "text/html": [
              "\n",
              "  <div id=\"df-f6ca8ec9-c4dd-4eb9-8cf2-00603d19ac14\">\n",
              "    <div class=\"colab-df-container\">\n",
              "      <div>\n",
              "<style scoped>\n",
              "    .dataframe tbody tr th:only-of-type {\n",
              "        vertical-align: middle;\n",
              "    }\n",
              "\n",
              "    .dataframe tbody tr th {\n",
              "        vertical-align: top;\n",
              "    }\n",
              "\n",
              "    .dataframe thead th {\n",
              "        text-align: right;\n",
              "    }\n",
              "</style>\n",
              "<table border=\"1\" class=\"dataframe\">\n",
              "  <thead>\n",
              "    <tr style=\"text-align: right;\">\n",
              "      <th></th>\n",
              "      <th>initial_rate</th>\n",
              "      <th>length</th>\n",
              "      <th>width</th>\n",
              "      <th>height</th>\n",
              "      <th>speed</th>\n",
              "      <th>y</th>\n",
              "    </tr>\n",
              "  </thead>\n",
              "  <tbody>\n",
              "    <tr>\n",
              "      <th>0</th>\n",
              "      <td>0.12</td>\n",
              "      <td>5.87</td>\n",
              "      <td>7.31</td>\n",
              "      <td>9.61</td>\n",
              "      <td>24.47</td>\n",
              "      <td>0</td>\n",
              "    </tr>\n",
              "    <tr>\n",
              "      <th>1</th>\n",
              "      <td>0.68</td>\n",
              "      <td>5.49</td>\n",
              "      <td>5.46</td>\n",
              "      <td>9.19</td>\n",
              "      <td>20.33</td>\n",
              "      <td>0</td>\n",
              "    </tr>\n",
              "    <tr>\n",
              "      <th>2</th>\n",
              "      <td>1.86</td>\n",
              "      <td>6.03</td>\n",
              "      <td>5.89</td>\n",
              "      <td>10.75</td>\n",
              "      <td>22.60</td>\n",
              "      <td>0</td>\n",
              "    </tr>\n",
              "    <tr>\n",
              "      <th>3</th>\n",
              "      <td>0.04</td>\n",
              "      <td>5.25</td>\n",
              "      <td>5.57</td>\n",
              "      <td>10.04</td>\n",
              "      <td>20.00</td>\n",
              "      <td>0</td>\n",
              "    </tr>\n",
              "    <tr>\n",
              "      <th>4</th>\n",
              "      <td>0.28</td>\n",
              "      <td>6.63</td>\n",
              "      <td>6.17</td>\n",
              "      <td>9.90</td>\n",
              "      <td>21.74</td>\n",
              "      <td>0</td>\n",
              "    </tr>\n",
              "    <tr>\n",
              "      <th>...</th>\n",
              "      <td>...</td>\n",
              "      <td>...</td>\n",
              "      <td>...</td>\n",
              "      <td>...</td>\n",
              "      <td>...</td>\n",
              "      <td>...</td>\n",
              "    </tr>\n",
              "    <tr>\n",
              "      <th>4995</th>\n",
              "      <td>2.00</td>\n",
              "      <td>3.97</td>\n",
              "      <td>8.12</td>\n",
              "      <td>10.11</td>\n",
              "      <td>28.39</td>\n",
              "      <td>0</td>\n",
              "    </tr>\n",
              "    <tr>\n",
              "      <th>4996</th>\n",
              "      <td>1.39</td>\n",
              "      <td>5.84</td>\n",
              "      <td>5.41</td>\n",
              "      <td>6.83</td>\n",
              "      <td>20.90</td>\n",
              "      <td>0</td>\n",
              "    </tr>\n",
              "    <tr>\n",
              "      <th>4997</th>\n",
              "      <td>-0.00</td>\n",
              "      <td>4.39</td>\n",
              "      <td>5.38</td>\n",
              "      <td>12.19</td>\n",
              "      <td>19.48</td>\n",
              "      <td>0</td>\n",
              "    </tr>\n",
              "    <tr>\n",
              "      <th>4998</th>\n",
              "      <td>0.09</td>\n",
              "      <td>5.29</td>\n",
              "      <td>6.38</td>\n",
              "      <td>11.75</td>\n",
              "      <td>22.08</td>\n",
              "      <td>0</td>\n",
              "    </tr>\n",
              "    <tr>\n",
              "      <th>4999</th>\n",
              "      <td>1.16</td>\n",
              "      <td>4.65</td>\n",
              "      <td>6.02</td>\n",
              "      <td>9.16</td>\n",
              "      <td>22.23</td>\n",
              "      <td>0</td>\n",
              "    </tr>\n",
              "  </tbody>\n",
              "</table>\n",
              "<p>5000 rows × 6 columns</p>\n",
              "</div>\n",
              "      <button class=\"colab-df-convert\" onclick=\"convertToInteractive('df-f6ca8ec9-c4dd-4eb9-8cf2-00603d19ac14')\"\n",
              "              title=\"Convert this dataframe to an interactive table.\"\n",
              "              style=\"display:none;\">\n",
              "        \n",
              "  <svg xmlns=\"http://www.w3.org/2000/svg\" height=\"24px\"viewBox=\"0 0 24 24\"\n",
              "       width=\"24px\">\n",
              "    <path d=\"M0 0h24v24H0V0z\" fill=\"none\"/>\n",
              "    <path d=\"M18.56 5.44l.94 2.06.94-2.06 2.06-.94-2.06-.94-.94-2.06-.94 2.06-2.06.94zm-11 1L8.5 8.5l.94-2.06 2.06-.94-2.06-.94L8.5 2.5l-.94 2.06-2.06.94zm10 10l.94 2.06.94-2.06 2.06-.94-2.06-.94-.94-2.06-.94 2.06-2.06.94z\"/><path d=\"M17.41 7.96l-1.37-1.37c-.4-.4-.92-.59-1.43-.59-.52 0-1.04.2-1.43.59L10.3 9.45l-7.72 7.72c-.78.78-.78 2.05 0 2.83L4 21.41c.39.39.9.59 1.41.59.51 0 1.02-.2 1.41-.59l7.78-7.78 2.81-2.81c.8-.78.8-2.07 0-2.86zM5.41 20L4 18.59l7.72-7.72 1.47 1.35L5.41 20z\"/>\n",
              "  </svg>\n",
              "      </button>\n",
              "      \n",
              "  <style>\n",
              "    .colab-df-container {\n",
              "      display:flex;\n",
              "      flex-wrap:wrap;\n",
              "      gap: 12px;\n",
              "    }\n",
              "\n",
              "    .colab-df-convert {\n",
              "      background-color: #E8F0FE;\n",
              "      border: none;\n",
              "      border-radius: 50%;\n",
              "      cursor: pointer;\n",
              "      display: none;\n",
              "      fill: #1967D2;\n",
              "      height: 32px;\n",
              "      padding: 0 0 0 0;\n",
              "      width: 32px;\n",
              "    }\n",
              "\n",
              "    .colab-df-convert:hover {\n",
              "      background-color: #E2EBFA;\n",
              "      box-shadow: 0px 1px 2px rgba(60, 64, 67, 0.3), 0px 1px 3px 1px rgba(60, 64, 67, 0.15);\n",
              "      fill: #174EA6;\n",
              "    }\n",
              "\n",
              "    [theme=dark] .colab-df-convert {\n",
              "      background-color: #3B4455;\n",
              "      fill: #D2E3FC;\n",
              "    }\n",
              "\n",
              "    [theme=dark] .colab-df-convert:hover {\n",
              "      background-color: #434B5C;\n",
              "      box-shadow: 0px 1px 3px 1px rgba(0, 0, 0, 0.15);\n",
              "      filter: drop-shadow(0px 1px 2px rgba(0, 0, 0, 0.3));\n",
              "      fill: #FFFFFF;\n",
              "    }\n",
              "  </style>\n",
              "\n",
              "      <script>\n",
              "        const buttonEl =\n",
              "          document.querySelector('#df-f6ca8ec9-c4dd-4eb9-8cf2-00603d19ac14 button.colab-df-convert');\n",
              "        buttonEl.style.display =\n",
              "          google.colab.kernel.accessAllowed ? 'block' : 'none';\n",
              "\n",
              "        async function convertToInteractive(key) {\n",
              "          const element = document.querySelector('#df-f6ca8ec9-c4dd-4eb9-8cf2-00603d19ac14');\n",
              "          const dataTable =\n",
              "            await google.colab.kernel.invokeFunction('convertToInteractive',\n",
              "                                                     [key], {});\n",
              "          if (!dataTable) return;\n",
              "\n",
              "          const docLinkHtml = 'Like what you see? Visit the ' +\n",
              "            '<a target=\"_blank\" href=https://colab.research.google.com/notebooks/data_table.ipynb>data table notebook</a>'\n",
              "            + ' to learn more about interactive tables.';\n",
              "          element.innerHTML = '';\n",
              "          dataTable['output_type'] = 'display_data';\n",
              "          await google.colab.output.renderOutput(dataTable, element);\n",
              "          const docLink = document.createElement('div');\n",
              "          docLink.innerHTML = docLinkHtml;\n",
              "          element.appendChild(docLink);\n",
              "        }\n",
              "      </script>\n",
              "    </div>\n",
              "  </div>\n",
              "  "
            ]
          },
          "metadata": {},
          "execution_count": 5
        }
      ],
      "source": [
        "df"
      ]
    },
    {
      "cell_type": "code",
      "execution_count": 6,
      "id": "ee016a4a",
      "metadata": {
        "id": "ee016a4a"
      },
      "outputs": [],
      "source": [
        "from sklearn.model_selection import train_test_split"
      ]
    },
    {
      "cell_type": "code",
      "execution_count": 7,
      "id": "399bb96a",
      "metadata": {
        "id": "399bb96a"
      },
      "outputs": [],
      "source": [
        "df_train, df_test = train_test_split(df, \n",
        "                                     test_size = 0.25, random_state = 1) "
      ]
    },
    {
      "cell_type": "code",
      "execution_count": 8,
      "id": "9391184b",
      "metadata": {
        "id": "9391184b"
      },
      "outputs": [],
      "source": [
        "X_train_data = df_train.loc[:, df_train.columns!='y']\n",
        "y_train_data = df_train.loc[:, df_train.columns=='y']\n",
        "\n",
        "X_test_data = df_test.loc[:, df_test.columns!='y']\n",
        "y_test_data = df_test.loc[:, df_test.columns=='y']"
      ]
    },
    {
      "cell_type": "markdown",
      "id": "e170610a",
      "metadata": {
        "id": "e170610a"
      },
      "source": [
        "### Dealing With Imbalanced Data"
      ]
    },
    {
      "cell_type": "code",
      "execution_count": 9,
      "id": "53b4bd9d",
      "metadata": {
        "scrolled": true,
        "colab": {
          "base_uri": "https://localhost:8080/"
        },
        "id": "53b4bd9d",
        "outputId": "df020b85-000f-4e5b-817a-ea4bf2e94baf"
      },
      "outputs": [
        {
          "output_type": "stream",
          "name": "stdout",
          "text": [
            "Counter({0: 3371, 1: 379})\n",
            "Counter({0: 379, 1: 379})\n"
          ]
        }
      ],
      "source": [
        "# import random undersampling library \n",
        "from collections import Counter\n",
        "from imblearn.under_sampling import RandomUnderSampler\n",
        "import warnings\n",
        "warnings.simplefilter(action='ignore', category=FutureWarning)\n",
        "\n",
        "# summarize class distribution\n",
        "print(Counter(y_train_data['y']))\n",
        "\n",
        "# define undersample strategy\n",
        "undersample = RandomUnderSampler(sampling_strategy='majority')\n",
        "\n",
        "# fit and apply the transform\n",
        "X_train_under, y_train_under = undersample.fit_resample(X_train_data, \n",
        "                                                        y_train_data)\n",
        "\n",
        "# summarize class distribution\n",
        "print(Counter(y_train_under['y']))"
      ]
    },
    {
      "cell_type": "markdown",
      "id": "91abf05d",
      "metadata": {
        "id": "91abf05d"
      },
      "source": [
        "### Soal"
      ]
    },
    {
      "cell_type": "markdown",
      "id": "181aaf36",
      "metadata": {
        "id": "181aaf36"
      },
      "source": [
        "Lakukan KNN, Logistic Regression, dan Decision Tree pada dataset yang telah diberikan.\n",
        "\n",
        "Jawablah:\n",
        "1. Jika kita menganggap '1' sebagai 'positive', maka algoritma apa yang memiliki nilai F1-Score terbaik?\n",
        "2. Pada algoritma 'knn', berapa 'n_neighbors' yang ideal jika kita ingin memaksimalkan nilai 'recall'? \n",
        "3. Jika kita menganggap '1' sebagai 'positive', maka algoritma apa yang memiliki nilai F1-Score terburuk?"
      ]
    },
    {
      "cell_type": "code",
      "execution_count": 10,
      "id": "b786a997",
      "metadata": {
        "id": "b786a997"
      },
      "outputs": [],
      "source": [
        "### Silakan Mengerjakan"
      ]
    },
    {
      "cell_type": "markdown",
      "id": "33070151",
      "metadata": {
        "id": "33070151"
      },
      "source": [
        "### Jawaban"
      ]
    },
    {
      "cell_type": "code",
      "source": [
        "def evaluate(model, x_test = X_test_data, y_test = y_test_data):\n",
        "    y_pred = model.predict(x_test)\n",
        "    print('Accuracy:', accuracy_score(y_test, y_pred))\n",
        "    print('------')\n",
        "    print('Confusion Matrix:')\n",
        "    print()\n",
        "    print(classification_report(y_test, y_pred))\n",
        "    print('------')\n",
        "    \n",
        "    tn, fp, fn, tp = confusion_matrix(y_test, y_pred).ravel()\n",
        "    print('Assuming 1 as positive, we get:')\n",
        "    print('')\n",
        "    print('True Positive:', tp)\n",
        "    print('True Negative:', tn)\n",
        "    print('False Positive:', fp)\n",
        "    print('False Negative:', fn)\n",
        "    \n",
        "    print('')\n",
        "    \n",
        "    precision = tp/(tp+fp)\n",
        "    recall = tp/(tp+fn)\n",
        "    \n",
        "    print('Precision:', precision)\n",
        "    print('Recall:', recall)\n",
        "    print('F1-Score:', 2 * (precision * recall)/(precision + recall))"
      ],
      "metadata": {
        "id": "hK9aP0z5Mbm7"
      },
      "id": "hK9aP0z5Mbm7",
      "execution_count": 11,
      "outputs": []
    },
    {
      "cell_type": "markdown",
      "source": [
        "### K-Nearest Neighbor"
      ],
      "metadata": {
        "id": "cEqo864wFKfB"
      },
      "id": "cEqo864wFKfB"
    },
    {
      "cell_type": "code",
      "source": [
        "knn = KNeighborsClassifier(n_neighbors = 5)\n",
        "knn.fit(X_train_under, y_train_under)"
      ],
      "metadata": {
        "colab": {
          "base_uri": "https://localhost:8080/"
        },
        "id": "UxH35vLF3jcd",
        "outputId": "3c743822-f2c3-43da-cf20-89da94af0220"
      },
      "id": "UxH35vLF3jcd",
      "execution_count": 12,
      "outputs": [
        {
          "output_type": "execute_result",
          "data": {
            "text/plain": [
              "KNeighborsClassifier()"
            ]
          },
          "metadata": {},
          "execution_count": 12
        }
      ]
    },
    {
      "cell_type": "code",
      "source": [
        "y_prediction = knn.predict(X_test_data)"
      ],
      "metadata": {
        "id": "oH1zQzXUUx8s"
      },
      "id": "oH1zQzXUUx8s",
      "execution_count": 13,
      "outputs": []
    },
    {
      "cell_type": "code",
      "source": [
        "y_prediction"
      ],
      "metadata": {
        "colab": {
          "base_uri": "https://localhost:8080/"
        },
        "id": "3AwJAVVLVGnA",
        "outputId": "a27156f1-ce3f-422a-c9f8-169b83fbe4a6"
      },
      "id": "3AwJAVVLVGnA",
      "execution_count": 14,
      "outputs": [
        {
          "output_type": "execute_result",
          "data": {
            "text/plain": [
              "array([0, 0, 0, ..., 0, 0, 1])"
            ]
          },
          "metadata": {},
          "execution_count": 14
        }
      ]
    },
    {
      "cell_type": "code",
      "source": [
        "evaluate(knn)"
      ],
      "metadata": {
        "colab": {
          "base_uri": "https://localhost:8080/"
        },
        "id": "M21LSqkaMUoM",
        "outputId": "028beecd-0020-43f7-e22d-76e4f1836d9f"
      },
      "id": "M21LSqkaMUoM",
      "execution_count": 15,
      "outputs": [
        {
          "output_type": "stream",
          "name": "stdout",
          "text": [
            "Accuracy: 0.8752\n",
            "------\n",
            "Confusion Matrix:\n",
            "\n",
            "              precision    recall  f1-score   support\n",
            "\n",
            "           0       0.99      0.87      0.93      1130\n",
            "           1       0.43      0.96      0.60       120\n",
            "\n",
            "    accuracy                           0.88      1250\n",
            "   macro avg       0.71      0.91      0.76      1250\n",
            "weighted avg       0.94      0.88      0.89      1250\n",
            "\n",
            "------\n",
            "Assuming 1 as positive, we get:\n",
            "\n",
            "True Positive: 115\n",
            "True Negative: 979\n",
            "False Positive: 151\n",
            "False Negative: 5\n",
            "\n",
            "Precision: 0.4323308270676692\n",
            "Recall: 0.9583333333333334\n",
            "F1-Score: 0.5958549222797928\n"
          ]
        }
      ]
    },
    {
      "cell_type": "markdown",
      "source": [
        "i will try `n_neighbors` random value from 3 to 15 and see if we can improve the accuracy.\n",
        "\n",
        "Let's try to find the `n_neighbors` that give us the best `recall`."
      ],
      "metadata": {
        "id": "J2Cj9VU3Mkuq"
      },
      "id": "J2Cj9VU3Mkuq"
    },
    {
      "cell_type": "code",
      "source": [
        "def evaluate_recall(model, x_test = X_test_data, y_test = y_test_data):\n",
        "    y_pred = model.predict(x_test)\n",
        "    tn, fp, fn, tp = confusion_matrix(y_test, y_pred).ravel()\n",
        "    \n",
        "    precision = tp/(tp+fp)\n",
        "    recall = tp/(tp+fn)\n",
        "    \n",
        "    return recall"
      ],
      "metadata": {
        "id": "VCuWqS2sMlCC"
      },
      "id": "VCuWqS2sMlCC",
      "execution_count": 16,
      "outputs": []
    },
    {
      "cell_type": "code",
      "source": [
        "recall_dict = {\n",
        "    'n':[],\n",
        "    'recall':[]\n",
        "}\n",
        "for n in [3,5,7,9,11,13,15,18,20,22,25,30,32,35,37,40]:\n",
        "    knn = KNeighborsClassifier(n_neighbors = n)\n",
        "    knn.fit(X_train_under, y_train_under)\n",
        "    recall = evaluate_recall(knn)\n",
        "    recall_dict['n'].append(n)\n",
        "    recall_dict['recall'].append(recall)\n",
        "    \n",
        "recall_df = pd.DataFrame(recall_dict)"
      ],
      "metadata": {
        "id": "6qBSroPjMnRj"
      },
      "id": "6qBSroPjMnRj",
      "execution_count": 17,
      "outputs": []
    },
    {
      "cell_type": "code",
      "source": [
        "recall_df"
      ],
      "metadata": {
        "colab": {
          "base_uri": "https://localhost:8080/",
          "height": 551
        },
        "id": "drP2dGqhMp5a",
        "outputId": "3bc7b0f6-98db-44e7-caa0-9beff0bfbedb"
      },
      "id": "drP2dGqhMp5a",
      "execution_count": 18,
      "outputs": [
        {
          "output_type": "execute_result",
          "data": {
            "text/plain": [
              "     n    recall\n",
              "0    3  0.916667\n",
              "1    5  0.958333\n",
              "2    7  0.958333\n",
              "3    9  0.958333\n",
              "4   11  0.958333\n",
              "5   13  0.966667\n",
              "6   15  0.958333\n",
              "7   18  0.958333\n",
              "8   20  0.958333\n",
              "9   22  0.966667\n",
              "10  25  0.966667\n",
              "11  30  0.966667\n",
              "12  32  0.966667\n",
              "13  35  0.966667\n",
              "14  37  0.966667\n",
              "15  40  0.966667"
            ],
            "text/html": [
              "\n",
              "  <div id=\"df-0f106706-ad37-4550-ad6b-f098eda5e3b9\">\n",
              "    <div class=\"colab-df-container\">\n",
              "      <div>\n",
              "<style scoped>\n",
              "    .dataframe tbody tr th:only-of-type {\n",
              "        vertical-align: middle;\n",
              "    }\n",
              "\n",
              "    .dataframe tbody tr th {\n",
              "        vertical-align: top;\n",
              "    }\n",
              "\n",
              "    .dataframe thead th {\n",
              "        text-align: right;\n",
              "    }\n",
              "</style>\n",
              "<table border=\"1\" class=\"dataframe\">\n",
              "  <thead>\n",
              "    <tr style=\"text-align: right;\">\n",
              "      <th></th>\n",
              "      <th>n</th>\n",
              "      <th>recall</th>\n",
              "    </tr>\n",
              "  </thead>\n",
              "  <tbody>\n",
              "    <tr>\n",
              "      <th>0</th>\n",
              "      <td>3</td>\n",
              "      <td>0.916667</td>\n",
              "    </tr>\n",
              "    <tr>\n",
              "      <th>1</th>\n",
              "      <td>5</td>\n",
              "      <td>0.958333</td>\n",
              "    </tr>\n",
              "    <tr>\n",
              "      <th>2</th>\n",
              "      <td>7</td>\n",
              "      <td>0.958333</td>\n",
              "    </tr>\n",
              "    <tr>\n",
              "      <th>3</th>\n",
              "      <td>9</td>\n",
              "      <td>0.958333</td>\n",
              "    </tr>\n",
              "    <tr>\n",
              "      <th>4</th>\n",
              "      <td>11</td>\n",
              "      <td>0.958333</td>\n",
              "    </tr>\n",
              "    <tr>\n",
              "      <th>5</th>\n",
              "      <td>13</td>\n",
              "      <td>0.966667</td>\n",
              "    </tr>\n",
              "    <tr>\n",
              "      <th>6</th>\n",
              "      <td>15</td>\n",
              "      <td>0.958333</td>\n",
              "    </tr>\n",
              "    <tr>\n",
              "      <th>7</th>\n",
              "      <td>18</td>\n",
              "      <td>0.958333</td>\n",
              "    </tr>\n",
              "    <tr>\n",
              "      <th>8</th>\n",
              "      <td>20</td>\n",
              "      <td>0.958333</td>\n",
              "    </tr>\n",
              "    <tr>\n",
              "      <th>9</th>\n",
              "      <td>22</td>\n",
              "      <td>0.966667</td>\n",
              "    </tr>\n",
              "    <tr>\n",
              "      <th>10</th>\n",
              "      <td>25</td>\n",
              "      <td>0.966667</td>\n",
              "    </tr>\n",
              "    <tr>\n",
              "      <th>11</th>\n",
              "      <td>30</td>\n",
              "      <td>0.966667</td>\n",
              "    </tr>\n",
              "    <tr>\n",
              "      <th>12</th>\n",
              "      <td>32</td>\n",
              "      <td>0.966667</td>\n",
              "    </tr>\n",
              "    <tr>\n",
              "      <th>13</th>\n",
              "      <td>35</td>\n",
              "      <td>0.966667</td>\n",
              "    </tr>\n",
              "    <tr>\n",
              "      <th>14</th>\n",
              "      <td>37</td>\n",
              "      <td>0.966667</td>\n",
              "    </tr>\n",
              "    <tr>\n",
              "      <th>15</th>\n",
              "      <td>40</td>\n",
              "      <td>0.966667</td>\n",
              "    </tr>\n",
              "  </tbody>\n",
              "</table>\n",
              "</div>\n",
              "      <button class=\"colab-df-convert\" onclick=\"convertToInteractive('df-0f106706-ad37-4550-ad6b-f098eda5e3b9')\"\n",
              "              title=\"Convert this dataframe to an interactive table.\"\n",
              "              style=\"display:none;\">\n",
              "        \n",
              "  <svg xmlns=\"http://www.w3.org/2000/svg\" height=\"24px\"viewBox=\"0 0 24 24\"\n",
              "       width=\"24px\">\n",
              "    <path d=\"M0 0h24v24H0V0z\" fill=\"none\"/>\n",
              "    <path d=\"M18.56 5.44l.94 2.06.94-2.06 2.06-.94-2.06-.94-.94-2.06-.94 2.06-2.06.94zm-11 1L8.5 8.5l.94-2.06 2.06-.94-2.06-.94L8.5 2.5l-.94 2.06-2.06.94zm10 10l.94 2.06.94-2.06 2.06-.94-2.06-.94-.94-2.06-.94 2.06-2.06.94z\"/><path d=\"M17.41 7.96l-1.37-1.37c-.4-.4-.92-.59-1.43-.59-.52 0-1.04.2-1.43.59L10.3 9.45l-7.72 7.72c-.78.78-.78 2.05 0 2.83L4 21.41c.39.39.9.59 1.41.59.51 0 1.02-.2 1.41-.59l7.78-7.78 2.81-2.81c.8-.78.8-2.07 0-2.86zM5.41 20L4 18.59l7.72-7.72 1.47 1.35L5.41 20z\"/>\n",
              "  </svg>\n",
              "      </button>\n",
              "      \n",
              "  <style>\n",
              "    .colab-df-container {\n",
              "      display:flex;\n",
              "      flex-wrap:wrap;\n",
              "      gap: 12px;\n",
              "    }\n",
              "\n",
              "    .colab-df-convert {\n",
              "      background-color: #E8F0FE;\n",
              "      border: none;\n",
              "      border-radius: 50%;\n",
              "      cursor: pointer;\n",
              "      display: none;\n",
              "      fill: #1967D2;\n",
              "      height: 32px;\n",
              "      padding: 0 0 0 0;\n",
              "      width: 32px;\n",
              "    }\n",
              "\n",
              "    .colab-df-convert:hover {\n",
              "      background-color: #E2EBFA;\n",
              "      box-shadow: 0px 1px 2px rgba(60, 64, 67, 0.3), 0px 1px 3px 1px rgba(60, 64, 67, 0.15);\n",
              "      fill: #174EA6;\n",
              "    }\n",
              "\n",
              "    [theme=dark] .colab-df-convert {\n",
              "      background-color: #3B4455;\n",
              "      fill: #D2E3FC;\n",
              "    }\n",
              "\n",
              "    [theme=dark] .colab-df-convert:hover {\n",
              "      background-color: #434B5C;\n",
              "      box-shadow: 0px 1px 3px 1px rgba(0, 0, 0, 0.15);\n",
              "      filter: drop-shadow(0px 1px 2px rgba(0, 0, 0, 0.3));\n",
              "      fill: #FFFFFF;\n",
              "    }\n",
              "  </style>\n",
              "\n",
              "      <script>\n",
              "        const buttonEl =\n",
              "          document.querySelector('#df-0f106706-ad37-4550-ad6b-f098eda5e3b9 button.colab-df-convert');\n",
              "        buttonEl.style.display =\n",
              "          google.colab.kernel.accessAllowed ? 'block' : 'none';\n",
              "\n",
              "        async function convertToInteractive(key) {\n",
              "          const element = document.querySelector('#df-0f106706-ad37-4550-ad6b-f098eda5e3b9');\n",
              "          const dataTable =\n",
              "            await google.colab.kernel.invokeFunction('convertToInteractive',\n",
              "                                                     [key], {});\n",
              "          if (!dataTable) return;\n",
              "\n",
              "          const docLinkHtml = 'Like what you see? Visit the ' +\n",
              "            '<a target=\"_blank\" href=https://colab.research.google.com/notebooks/data_table.ipynb>data table notebook</a>'\n",
              "            + ' to learn more about interactive tables.';\n",
              "          element.innerHTML = '';\n",
              "          dataTable['output_type'] = 'display_data';\n",
              "          await google.colab.output.renderOutput(dataTable, element);\n",
              "          const docLink = document.createElement('div');\n",
              "          docLink.innerHTML = docLinkHtml;\n",
              "          element.appendChild(docLink);\n",
              "        }\n",
              "      </script>\n",
              "    </div>\n",
              "  </div>\n",
              "  "
            ]
          },
          "metadata": {},
          "execution_count": 18
        }
      ]
    },
    {
      "cell_type": "markdown",
      "source": [
        "### Logistic Regression"
      ],
      "metadata": {
        "id": "d8r_pYdbMskb"
      },
      "id": "d8r_pYdbMskb"
    },
    {
      "cell_type": "code",
      "source": [
        "logreg = LogisticRegression()\n",
        "logreg.fit(X_train_under, y_train_under)"
      ],
      "metadata": {
        "colab": {
          "base_uri": "https://localhost:8080/"
        },
        "id": "WcG4aS1nMvYi",
        "outputId": "024e64a1-c33e-422f-a040-de78ca5da682"
      },
      "id": "WcG4aS1nMvYi",
      "execution_count": 19,
      "outputs": [
        {
          "output_type": "execute_result",
          "data": {
            "text/plain": [
              "LogisticRegression()"
            ]
          },
          "metadata": {},
          "execution_count": 19
        }
      ]
    },
    {
      "cell_type": "code",
      "source": [
        "evaluate(logreg)"
      ],
      "metadata": {
        "colab": {
          "base_uri": "https://localhost:8080/"
        },
        "id": "5cPGKKmgMzLp",
        "outputId": "709ae699-b48f-4df5-9811-df2dfa08780f"
      },
      "id": "5cPGKKmgMzLp",
      "execution_count": 20,
      "outputs": [
        {
          "output_type": "stream",
          "name": "stdout",
          "text": [
            "Accuracy: 0.8968\n",
            "------\n",
            "Confusion Matrix:\n",
            "\n",
            "              precision    recall  f1-score   support\n",
            "\n",
            "           0       1.00      0.89      0.94      1130\n",
            "           1       0.48      0.97      0.64       120\n",
            "\n",
            "    accuracy                           0.90      1250\n",
            "   macro avg       0.74      0.93      0.79      1250\n",
            "weighted avg       0.95      0.90      0.91      1250\n",
            "\n",
            "------\n",
            "Assuming 1 as positive, we get:\n",
            "\n",
            "True Positive: 116\n",
            "True Negative: 1005\n",
            "False Positive: 125\n",
            "False Negative: 4\n",
            "\n",
            "Precision: 0.48132780082987553\n",
            "Recall: 0.9666666666666667\n",
            "F1-Score: 0.6426592797783934\n"
          ]
        }
      ]
    },
    {
      "cell_type": "markdown",
      "source": [
        "### Decision Tree"
      ],
      "metadata": {
        "id": "qCYUtOQpM3pJ"
      },
      "id": "qCYUtOQpM3pJ"
    },
    {
      "cell_type": "code",
      "source": [
        "dt = DecisionTreeClassifier()\n",
        "dt.fit(X_train_under, y_train_under)\n",
        "evaluate(dt)"
      ],
      "metadata": {
        "colab": {
          "base_uri": "https://localhost:8080/"
        },
        "id": "phR4VIhNM5I4",
        "outputId": "78cd5eb0-fa09-4fee-a6e1-a2663dd7e40c"
      },
      "id": "phR4VIhNM5I4",
      "execution_count": 21,
      "outputs": [
        {
          "output_type": "stream",
          "name": "stdout",
          "text": [
            "Accuracy: 0.8888\n",
            "------\n",
            "Confusion Matrix:\n",
            "\n",
            "              precision    recall  f1-score   support\n",
            "\n",
            "           0       0.99      0.89      0.94      1130\n",
            "           1       0.46      0.89      0.61       120\n",
            "\n",
            "    accuracy                           0.89      1250\n",
            "   macro avg       0.72      0.89      0.77      1250\n",
            "weighted avg       0.94      0.89      0.90      1250\n",
            "\n",
            "------\n",
            "Assuming 1 as positive, we get:\n",
            "\n",
            "True Positive: 107\n",
            "True Negative: 1004\n",
            "False Positive: 126\n",
            "False Negative: 13\n",
            "\n",
            "Precision: 0.4592274678111588\n",
            "Recall: 0.8916666666666667\n",
            "F1-Score: 0.6062322946175638\n"
          ]
        }
      ]
    },
    {
      "cell_type": "markdown",
      "source": [
        "###Jawaban"
      ],
      "metadata": {
        "id": "4yO55nzHBCBJ"
      },
      "id": "4yO55nzHBCBJ"
    },
    {
      "cell_type": "markdown",
      "source": [
        "1. F1-Score terbaik didapatkan oleh Logistic Regression\n",
        "2. Pada KNN, n_neighbors 22, 25, 30, 32, 35, 37, 40 memungkinkan kita mendapat nilai recall tertinggi\n",
        "3. F1-Score terburuk didapatkan oleh K-Nearest Neighbor "
      ],
      "metadata": {
        "id": "yqi-9ZR4BATp"
      },
      "id": "yqi-9ZR4BATp"
    }
  ],
  "metadata": {
    "kernelspec": {
      "display_name": "Python 3",
      "language": "python",
      "name": "python3"
    },
    "language_info": {
      "codemirror_mode": {
        "name": "ipython",
        "version": 3
      },
      "file_extension": ".py",
      "mimetype": "text/x-python",
      "name": "python",
      "nbconvert_exporter": "python",
      "pygments_lexer": "ipython3",
      "version": "3.7.0"
    },
    "colab": {
      "name": "1650189677713-supervised_ml_python_part1_homework_SaifulArifin.ipynb",
      "provenance": [],
      "collapsed_sections": []
    }
  },
  "nbformat": 4,
  "nbformat_minor": 5
}