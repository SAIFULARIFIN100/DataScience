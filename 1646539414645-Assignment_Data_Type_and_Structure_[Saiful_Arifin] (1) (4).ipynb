{
  "cells": [
    {
      "cell_type": "markdown",
      "metadata": {
        "id": "rM4mZ-P8I4Kn"
      },
      "source": [
        "# Basic Calculation"
      ]
    },
    {
      "cell_type": "code",
      "source": [
        "a = 17\n",
        "b = 91\n",
        "\n",
        "# Q1. Using different a and b, Find correct comparison sign (==, <=, >=, <, or >) in the equation bellow (score : 10)\n",
        "print (b == (b/a * a + b%a))\n",
        "print (b <= (b/a * a + b%a))\n",
        "print (b >= (b/a * a + b%a))\n",
        "print (b < (b/a * a + b%a))\n",
        "print (b > (b/a * a + b%a))\n"
      ],
      "metadata": {
        "colab": {
          "base_uri": "https://localhost:8080/"
        },
        "id": "sgpiPL-A8KIG",
        "outputId": "8dbca22d-1d92-45e0-a505-ca372334f817"
      },
      "execution_count": 11,
      "outputs": [
        {
          "output_type": "stream",
          "name": "stdout",
          "text": [
            "False\n",
            "True\n",
            "False\n",
            "True\n",
            "False\n"
          ]
        }
      ]
    },
    {
      "cell_type": "code",
      "execution_count": 10,
      "metadata": {
        "ExecuteTime": {
          "end_time": "2022-02-26T02:16:28.235418Z",
          "start_time": "2022-02-26T02:16:28.221455Z"
        },
        "colab": {
          "base_uri": "https://localhost:8080/"
        },
        "id": "BRU_yOjMI4Kr",
        "outputId": "229d9361-ed5b-4816-d68b-ac1409c48d51"
      },
      "outputs": [
        {
          "output_type": "stream",
          "name": "stdout",
          "text": [
            "a itu kurang dari sama dengan b\n"
          ]
        }
      ],
      "source": [
        "a = 17\n",
        "b = 91\n",
        "\n",
        "# Q1. Using different a and b, Find correct comparison sign (==, <=, >=, <, or >) in the equation bellow (score : 10)\n",
        "# dengan tidak memakai persamaan\n",
        "\n",
        "if a == b:\n",
        "   print(\"a itu sama dengan b\")\n",
        "elif a <= b:\n",
        "   print(\"a itu kurang dari sama dengan b\")\n",
        "elif a >= b:\n",
        "   print(\"a itu lebih dari b\")\n",
        "elif a < b:\n",
        "   print(\"a itu kurang dari b\")\n",
        "elif a > b:\n",
        "   print(\"a itu lebih dari b\")\n",
        "elif a % b :\n",
        "   print(\"a tidak habis dibagi dengan b\")\n",
        "else:\n",
        "   print(\"a tidak bisa dihitung dengan b\")\n"
      ]
    },
    {
      "cell_type": "code",
      "source": [
        "# Q2. can you determine the pattern when it will be equal equation? (score : 10)\n",
        "if (b == (b/a * a + b%a)):\n",
        "  print(\"sama\")\n",
        "else: \n",
        "  print(\"beda\")"
      ],
      "metadata": {
        "id": "ZLEH1XSclwOF",
        "colab": {
          "base_uri": "https://localhost:8080/"
        },
        "outputId": "fd275012-ff00-4dd8-bf9b-ed3a0d7771f9"
      },
      "execution_count": 8,
      "outputs": [
        {
          "output_type": "stream",
          "name": "stdout",
          "text": [
            "beda\n"
          ]
        }
      ]
    },
    {
      "cell_type": "code",
      "source": [
        "# Q2. can you determine the pattern when it will be equal equation? (score : 10)\n",
        "# dengan tidak memakai persamaan\n",
        "if a==b:\n",
        "  print(\"sama\")\n",
        "else: \n",
        "  print(\"beda\")"
      ],
      "metadata": {
        "colab": {
          "base_uri": "https://localhost:8080/"
        },
        "outputId": "43a4334c-7cc2-4360-9b71-3a2765548ade",
        "id": "hoFgvhr3YUhW"
      },
      "execution_count": 9,
      "outputs": [
        {
          "output_type": "stream",
          "name": "stdout",
          "text": [
            "beda\n"
          ]
        }
      ]
    },
    {
      "cell_type": "markdown",
      "metadata": {
        "id": "ZXu_ZGHxI4Kt"
      },
      "source": [
        "# Data Types"
      ]
    },
    {
      "cell_type": "code",
      "execution_count": null,
      "metadata": {
        "ExecuteTime": {
          "end_time": "2022-02-26T01:57:50.172752Z",
          "start_time": "2022-02-26T01:57:50.165771Z"
        },
        "colab": {
          "base_uri": "https://localhost:8080/"
        },
        "id": "m5OyQ33ZI4Kt",
        "outputId": "be84c230-006f-4900-f6a3-09d55a002874"
      },
      "outputs": [
        {
          "output_type": "execute_result",
          "data": {
            "text/plain": [
              "{'Negara Kedaulatan Republik Indonesia'}"
            ]
          },
          "metadata": {},
          "execution_count": 84
        }
      ],
      "source": [
        "# Q1. change text above into list and set (score : 10)\n",
        "text = \"Negara Kedaulatan Republik Indonesia\"\n",
        "# pertanyaan list dan set\n",
        "text = {\"Negara Kedaulatan Republik Indonesia\"}\n",
        "set(text)\n"
      ]
    },
    {
      "cell_type": "code",
      "execution_count": null,
      "metadata": {
        "ExecuteTime": {
          "end_time": "2022-02-26T01:57:50.172752Z",
          "start_time": "2022-02-26T01:57:50.165771Z"
        },
        "id": "JEVeC8CBmIg0",
        "outputId": "ad92331f-d34a-4e7e-d875-7b06ad3cb161",
        "colab": {
          "base_uri": "https://localhost:8080/"
        }
      },
      "outputs": [
        {
          "output_type": "stream",
          "name": "stdout",
          "text": [
            "{'Negara Kedaulatan Republik Indonesia'}\n"
          ]
        }
      ],
      "source": [
        "# pertanyaan list and set\n",
        "text = {\"Negara Kedaulatan Republik Indonesia\"}\n",
        "print(text)"
      ]
    },
    {
      "cell_type": "code",
      "execution_count": null,
      "metadata": {
        "colab": {
          "base_uri": "https://localhost:8080/"
        },
        "id": "oGPwsSHQI4Ku",
        "outputId": "0b5a4551-ed4a-46aa-86b4-7ff2bd401662"
      },
      "outputs": [
        {
          "output_type": "stream",
          "name": "stdout",
          "text": [
            "[1, 1.0, 'string', ['ini', 'list']]\n",
            "Tipe dari 1: <class 'int'>\n",
            "Tipe dari 1.0: <class 'float'>\n",
            "Tipe dari string: <class 'str'>\n",
            "Tipe dari ini: <class 'str'>\n",
            "Tipe dari list: <class 'str'>\n"
          ]
        }
      ],
      "source": [
        "# Q2. print data types of each items/elements in this list (score : 20)\n",
        "list_angka = [1, 1.0, \"string\", [\"ini\", \"list\"]]\n",
        "print(list_angka)\n",
        "## Answer Code Below ##\n",
        "print('Tipe dari 1:', type(1))\n",
        "print('Tipe dari 1.0:', type(1.0))\n",
        "print('Tipe dari string:', type('string'))\n",
        "print('Tipe dari ini:', type('ini'))\n",
        "print('Tipe dari list:', type('list'))"
      ]
    },
    {
      "cell_type": "code",
      "source": [
        ""
      ],
      "metadata": {
        "id": "8vqsYjAhmHzM"
      },
      "execution_count": null,
      "outputs": []
    },
    {
      "cell_type": "code",
      "source": [
        "# dengan cara simpelnya bisa seperti ini\n",
        "list_angka = [1, 1.0, \"string\", [\"ini\", \"list\"]]\n",
        "for element in list_angka :\n",
        "  print(type(element))"
      ],
      "metadata": {
        "colab": {
          "base_uri": "https://localhost:8080/"
        },
        "id": "57r_0oy7HzH8",
        "outputId": "c9b32a00-03bf-473d-b7c2-1140b6582346"
      },
      "execution_count": 12,
      "outputs": [
        {
          "output_type": "stream",
          "name": "stdout",
          "text": [
            "<class 'int'>\n",
            "<class 'float'>\n",
            "<class 'str'>\n",
            "<class 'list'>\n"
          ]
        }
      ]
    },
    {
      "cell_type": "markdown",
      "metadata": {
        "id": "j-Hjavt_I4Ku"
      },
      "source": [
        "# Data Structure"
      ]
    },
    {
      "cell_type": "code",
      "execution_count": null,
      "metadata": {
        "id": "ieiJfrErI4Kv"
      },
      "outputs": [],
      "source": [
        ""
      ]
    },
    {
      "cell_type": "code",
      "execution_count": 13,
      "metadata": {
        "id": "5bSBHzX2_RZJ"
      },
      "outputs": [],
      "source": [
        "#list_prime = [1, 2, 3, 5, 8, 9] #asli\n",
        "list_prime = [1, 2, 3, 5, 6, 8, 9, 4]"
      ]
    },
    {
      "cell_type": "code",
      "source": [
        "# Q1. Correct list of prime bellow using item assignment (score : 10)\n",
        "\n",
        "for i in list_prime[:]:\n",
        " \n",
        "  if i <= 1:\n",
        "    list_prime.remove(i)\n",
        "  if i>1:\n",
        "    for y in range (2, i):\n",
        "    \n",
        "      if (i%y == 0):\n",
        "        \n",
        "        break\n",
        "print(list_prime)"
      ],
      "metadata": {
        "colab": {
          "base_uri": "https://localhost:8080/"
        },
        "id": "xUB5NHBASt5e",
        "outputId": "f6f3602e-ec08-457a-e5bb-402b4b351d45"
      },
      "execution_count": null,
      "outputs": [
        {
          "output_type": "stream",
          "name": "stdout",
          "text": [
            "[2, 3, 5]\n"
          ]
        }
      ]
    },
    {
      "cell_type": "code",
      "execution_count": null,
      "metadata": {
        "colab": {
          "base_uri": "https://localhost:8080/"
        },
        "id": "GDYcWsPYI4Kv",
        "outputId": "c6f02dd7-ffea-442f-bb81-d1d268dc2dbe"
      },
      "outputs": [
        {
          "output_type": "stream",
          "name": "stdout",
          "text": [
            "{2, 4, 5, 6, 8, 12, 14, 15, 16, 18}\n"
          ]
        }
      ],
      "source": [
        "# Q2. set\n",
        "setA = {2, 4, 6, 8, 10, 12, 14, 16, 18, 20}\n",
        "setB = {5, 10, 15, 20}\n",
        "\n",
        "# find symetrics difference of setA and setB (score : 5)\n",
        "print(setA.symmetric_difference(setB))\n"
      ]
    },
    {
      "cell_type": "code",
      "source": [
        "# find difference from setA to setB (score : 5)\n",
        "setA = {2, 4, 6, 8, 10, 12, 14, 16, 18, 20}\n",
        "setB = {5, 10, 15, 20}\n",
        "print(setA.difference(setB))"
      ],
      "metadata": {
        "colab": {
          "base_uri": "https://localhost:8080/"
        },
        "id": "taaJfS48mnH7",
        "outputId": "065f5f35-5b8f-478e-a5f3-f006d29b2897"
      },
      "execution_count": null,
      "outputs": [
        {
          "output_type": "stream",
          "name": "stdout",
          "text": [
            "{2, 4, 6, 8, 12, 14, 16, 18}\n"
          ]
        }
      ]
    },
    {
      "cell_type": "code",
      "execution_count": null,
      "metadata": {
        "ExecuteTime": {
          "end_time": "2022-02-26T02:04:06.706944Z",
          "start_time": "2022-02-26T02:04:06.695973Z"
        },
        "code_folding": [],
        "colab": {
          "base_uri": "https://localhost:8080/"
        },
        "id": "UV2NHqXxI4Kw",
        "outputId": "76533f82-1e52-49c4-d975-be29750db106"
      },
      "outputs": [
        {
          "output_type": "stream",
          "name": "stdout",
          "text": [
            "80\n"
          ]
        }
      ],
      "source": [
        "# Q3. find values of Zizi's history marks using code (score : 15)\n",
        "\n",
        "sampleDict = {\n",
        "    \"Class\": { \n",
        "        \"12 IPA 6\" : {\n",
        "            \"Student\" : {\n",
        "                \"Zizi\" : {\n",
        "                    \"marks\": {\n",
        "                        \"physics\": 70,\n",
        "                        \"history\": 80\n",
        "                    }\n",
        "                }\n",
        "            }\n",
        "        }\n",
        "    }\n",
        "}\n",
        "\n",
        "## Correct this code ##\n",
        "print(sampleDict[\"Class\"][\"12 IPA 6\"][\"Student\"][\"Zizi\"][\"marks\"][\"history\"])\n"
      ]
    },
    {
      "cell_type": "code",
      "execution_count": null,
      "metadata": {
        "ExecuteTime": {
          "end_time": "2022-02-26T02:04:06.706944Z",
          "start_time": "2022-02-26T02:04:06.695973Z"
        },
        "code_folding": [],
        "colab": {
          "base_uri": "https://localhost:8080/"
        },
        "outputId": "d19f46b4-225c-4dec-a32f-39e8ace1606d",
        "id": "74iZVHbZnkvP"
      },
      "outputs": [
        {
          "output_type": "stream",
          "name": "stdout",
          "text": [
            "{'Class': {'12 IPA 6': {'Student': {'Zizi': {'marks': {'physics': 70, 'history': 80, 'math': 100}}}}}}\n",
            "100\n"
          ]
        }
      ],
      "source": [
        "\n",
        "sampleDict = {\n",
        "    \"Class\": { \n",
        "        \"12 IPA 6\" : {\n",
        "            \"Student\" : {\n",
        "                \"Zizi\" : {\n",
        "                    \"marks\": {\n",
        "                        \"physics\": 70,\n",
        "                        \"history\": 80\n",
        "                    }\n",
        "                }\n",
        "            }\n",
        "        }\n",
        "    }\n",
        "}\n",
        "\n",
        "\n",
        "# Q4. Add another marks of 'math' with value 100 (score : 15)\n",
        "\n",
        "sampleDict[\"Class\"][\"12 IPA 6\"][\"Student\"][\"Zizi\"][\"marks\"][\"math\"]=100\n",
        "print(sampleDict)\n",
        "print(sampleDict[\"Class\"][\"12 IPA 6\"][\"Student\"][\"Zizi\"][\"marks\"][\"math\"])"
      ]
    }
  ],
  "metadata": {
    "kernelspec": {
      "display_name": "Python 3",
      "language": "python",
      "name": "python3"
    },
    "language_info": {
      "codemirror_mode": {
        "name": "ipython",
        "version": 3
      },
      "file_extension": ".py",
      "mimetype": "text/x-python",
      "name": "python",
      "nbconvert_exporter": "python",
      "pygments_lexer": "ipython3",
      "version": "3.7.3"
    },
    "latex_envs": {
      "LaTeX_envs_menu_present": true,
      "autoclose": false,
      "autocomplete": true,
      "bibliofile": "biblio.bib",
      "cite_by": "apalike",
      "current_citInitial": 1,
      "eqLabelWithNumbers": true,
      "eqNumInitial": 1,
      "hotkeys": {
        "equation": "Ctrl-E",
        "itemize": "Ctrl-I"
      },
      "labels_anchors": false,
      "latex_user_defs": false,
      "report_style_numbering": false,
      "user_envs_cfg": false
    },
    "colab": {
      "name": "Assignment_Data_Type_and_Structure_[Saiful Arifin].ipynb",
      "provenance": [],
      "collapsed_sections": []
    }
  },
  "nbformat": 4,
  "nbformat_minor": 0
}