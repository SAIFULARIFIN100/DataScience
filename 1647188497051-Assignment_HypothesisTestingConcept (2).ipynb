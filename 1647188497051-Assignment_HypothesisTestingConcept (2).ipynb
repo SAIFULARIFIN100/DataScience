{
  "cells": [
    {
      "cell_type": "markdown",
      "metadata": {
        "id": "y4cYObeK9IxL"
      },
      "source": [
        "# 0. Import Packages"
      ]
    },
    {
      "cell_type": "code",
      "execution_count": 19,
      "metadata": {
        "ExecuteTime": {
          "end_time": "2022-03-04T10:29:31.794068Z",
          "start_time": "2022-03-04T10:29:31.789054Z"
        },
        "colab": {
          "base_uri": "https://localhost:8080/"
        },
        "id": "-fVx-Ms89IxN",
        "outputId": "57817f4a-2a2c-4d0e-8203-4863e1b2ebb0"
      },
      "outputs": [
        {
          "output_type": "stream",
          "name": "stdout",
          "text": [
            "Requirement already satisfied: numpy in /usr/local/lib/python3.7/dist-packages (1.21.5)\n",
            "Requirement already satisfied: scipy in /usr/local/lib/python3.7/dist-packages (1.7.3)\n",
            "Requirement already satisfied: numpy<1.23.0,>=1.16.5 in /usr/local/lib/python3.7/dist-packages (from scipy) (1.21.5)\n"
          ]
        }
      ],
      "source": [
        "## Install First if you haven't install it yet!\n",
        "!pip install numpy\n",
        "!pip install scipy"
      ]
    },
    {
      "cell_type": "code",
      "execution_count": 20,
      "metadata": {
        "ExecuteTime": {
          "end_time": "2022-03-04T10:29:32.550041Z",
          "start_time": "2022-03-04T10:29:31.988521Z"
        },
        "id": "s3g-9MPK9IxP"
      },
      "outputs": [],
      "source": [
        "import numpy as np\n",
        "from scipy import stats\n",
        "#import scipy\n",
        "#scipy.__version__\n",
        "#!pip install --upgrade scipy"
      ]
    },
    {
      "cell_type": "markdown",
      "metadata": {
        "id": "BeHb8p-09IxP"
      },
      "source": [
        "# 1. Statistical Descriptive"
      ]
    },
    {
      "cell_type": "code",
      "execution_count": 23,
      "metadata": {
        "ExecuteTime": {
          "end_time": "2022-03-04T10:29:34.096882Z",
          "start_time": "2022-03-04T10:29:34.079930Z"
        },
        "id": "7v5vU1h79IxP"
      },
      "outputs": [],
      "source": [
        "# 1. Hitung Mean dan Median dari data dibawah ini (score : 10)\n",
        "list_bp_after = [153, 170, 168, 142, 141, 147, 133, 141, 131, 125, 164, 159, 135, 159, 153, 126, 162, 134, 136, 150, 168\n",
        "                 , 155, 136, 132, 160, 160, 136, 183, 152, 162, 151, 139, 175, 184, 151, 171, 157, 159, 140, 174, 167, 158\n",
        "                 , 168, 159, 153, 164, 169, 148, 185, 163, 146, 160, 175, 163, 185, 146, 176, 147, 161, 164, 149, 142, 146\n",
        "                 , 138, 131, 145, 134, 135, 131, 135, 133, 135, 168, 144, 147, 151, 149, 147, 149, 135, 127, 150, 138, 147\n",
        "                 , 157, 146, 148, 136, 146, 132, 145, 132, 157, 140, 137, 154, 169, 145, 137, 143, 178, 141, 149, 148, 138\n",
        "                 , 143, 167, 158, 152, 154, 161, 143, 159, 177, 142, 152, 152, 174, 151, 163]\n",
        "\n",
        "\n",
        "### Start Your Code Here ###"
      ]
    },
    {
      "cell_type": "code",
      "source": [
        "# calculate mean\n",
        "print(\"average blood pressure \\t:\", np.mean(list_bp_after))\n",
        "\n",
        "# calculate median\n",
        "print(\"median blood pressure \\t:\", np.median(list_bp_after))\n",
        "\n",
        "# calculate mode\n",
        "val,count = stats.mode(list_bp_after)\n",
        "print(\"mode blood pressure \\t:\",val[0])"
      ],
      "metadata": {
        "colab": {
          "base_uri": "https://localhost:8080/"
        },
        "id": "Jcc_Oiv7AoGR",
        "outputId": "abab481f-1330-4f0b-fdba-bc9f0d746a36"
      },
      "execution_count": 24,
      "outputs": [
        {
          "output_type": "stream",
          "name": "stdout",
          "text": [
            "average blood pressure \t: 151.35833333333332\n",
            "median blood pressure \t: 149.5\n",
            "mode blood pressure \t: 135\n"
          ]
        }
      ]
    },
    {
      "cell_type": "code",
      "execution_count": 25,
      "metadata": {
        "ExecuteTime": {
          "end_time": "2022-03-04T10:29:34.960574Z",
          "start_time": "2022-03-04T10:29:34.948604Z"
        },
        "id": "TSrHfAVM9IxP"
      },
      "outputs": [],
      "source": [
        "# 2. Hitung standard devias dan interquartile range (q3 dikurangi q1) dari data dibawah ini (score : 10)\n",
        "list_bp_before = [143, 163, 153, 153, 146, 150, 148, 153, 153, 158, 149, 173, 165, 145, 143, 152, 141, 176, 143, 162, 149\n",
        "                  , 156, 151, 159, 164, 154, 152, 142, 162, 155, 175, 184, 167, 148, 170, 159, 149, 140, 185, 160, 157, 158\n",
        "                  , 162, 160, 180, 155, 172, 157, 171, 170, 175, 175, 172, 173, 170, 164, 147, 154, 172, 162, 152, 147, 144\n",
        "                  , 144, 158, 147, 154, 151, 149, 138, 162, 157, 141, 167, 147, 143, 142, 166, 147, 142, 157, 170, 150, 150\n",
        "                  , 167, 154, 143, 157, 149, 161, 142, 162, 144, 142, 159, 140, 144, 142, 145, 145, 168, 142, 147, 148, 162\n",
        "                  , 170, 173, 151, 155, 163, 183, 159, 148, 151, 165, 152, 161, 165, 149, 185]\n",
        "\n",
        "### Start Your Code Here ###"
      ]
    },
    {
      "cell_type": "code",
      "source": [
        "#variance\n",
        "print(\"variance of blood pressure \\t\\t:\", np.var(list_bp_before))\n",
        "\n",
        "#standard deviation\n",
        "print(\"standard deviation of blood pressure \\t:\",np.std(list_bp_before))\n",
        "\n",
        "#range\n",
        "print(\"range of blood pressure \\t\\t:\", max(list_bp_before) - min(list_bp_before))\n",
        "\n",
        "#Quartile (q1, q2 ,q3)\n",
        "print(\"q1 \\t\\t\\t\\t\\t:\", np.quantile(list_bp_before, 0.25))\n",
        "print(\"q2 \\t\\t\\t\\t\\t:\", np.quantile(list_bp_before, 0.5))\n",
        "print(\"q3 \\t\\t\\t\\t\\t:\", np.quantile(list_bp_before, 0.75))\n",
        "\n",
        "# interquartile range (q3 dikurangi q1)\n",
        "print(\"interquartile range (q3 dikurangi q1)\\t:\", np.quantile(list_bp_before, 0.75) - np.quantile(list_bp_before, 0.25))"
      ],
      "metadata": {
        "colab": {
          "base_uri": "https://localhost:8080/"
        },
        "id": "eKl_Rsl-JyH4",
        "outputId": "f1701682-59bc-406e-c8fc-3457b3e6920d"
      },
      "execution_count": 26,
      "outputs": [
        {
          "output_type": "stream",
          "name": "stdout",
          "text": [
            "variance of blood pressure \t\t: 128.6475\n",
            "standard deviation of blood pressure \t: 11.342288128944706\n",
            "range of blood pressure \t\t: 47\n",
            "q1 \t\t\t\t\t: 147.0\n",
            "q2 \t\t\t\t\t: 154.5\n",
            "q3 \t\t\t\t\t: 164.0\n",
            "interquartile range (q3 dikurangi q1)\t: 17.0\n"
          ]
        }
      ]
    },
    {
      "cell_type": "markdown",
      "metadata": {
        "id": "CbjTJ7uV9IxQ"
      },
      "source": [
        "# 2. T-test"
      ]
    },
    {
      "cell_type": "markdown",
      "metadata": {
        "id": "figXp1By9IxQ"
      },
      "source": [
        "Dua data diatas adalah data tekanan darah (blood pressure) dari passien sebelum dan sesudah treatment. <br>\n",
        "gunakan alpha = 5% untuk menentukan apakah tekanan darah setelah treatment menjadi lebih tinggi dibanding sebelum treatment."
      ]
    },
    {
      "cell_type": "code",
      "source": [
        "\n",
        "# select doubt level of alpha\n",
        "alpha = 0.05\n",
        "\n",
        "# do t-test paired two sample\n",
        "stats.ttest_rel(list_bp_after, list_bp_before)"
      ],
      "metadata": {
        "colab": {
          "base_uri": "https://localhost:8080/"
        },
        "id": "zTz2hbzP_fXu",
        "outputId": "f47debde-33d4-4e2c-df2f-b0e990877dfd"
      },
      "execution_count": 27,
      "outputs": [
        {
          "output_type": "execute_result",
          "data": {
            "text/plain": [
              "Ttest_relResult(statistic=-3.3371870510833657, pvalue=0.0011297914644840823)"
            ]
          },
          "metadata": {},
          "execution_count": 27
        }
      ]
    },
    {
      "cell_type": "code",
      "source": [
        "# select doubt level of alpha\n",
        "alpha = 0.15\n",
        "#kind of t-test is two sample\n",
        "# do t-test paired two sample\n",
        "alt = 'less' # 'two-sided', 'less' or 'greater'\n",
        "\n",
        "## calculate using packages scipy.stats\n",
        "\n",
        "stat, pval = stats.ttest_ind(list_bp_before, list_bp_after, equal_var=True, alternative=alt)\n",
        "\n",
        "print(\"your p-value\", pval)\n",
        "\n",
        "# Conclusion and comparison\n",
        "if alt=='two-sided':\n",
        "    if pval>alpha/2:\n",
        "        print(\"Conclusion : your null hypothesis can be accepted, first test have no effect\")\n",
        "    else:\n",
        "        print(\"Conclusion : your null hypothesis rejected, first test have some effect\")\n",
        "else:\n",
        "    if pval>alpha:\n",
        "        print(f\"Conclusion : your null hypothesis can be accepted, first test average is not {alt} than second\")\n",
        "    else:\n",
        "        print(f\"Conclusion : your null hypothesis rejected, first test average is {alt} than second\")"
      ],
      "metadata": {
        "colab": {
          "base_uri": "https://localhost:8080/"
        },
        "id": "lyUCfi8wQGsf",
        "outputId": "04389570-657c-4bba-b726-6d5ba92d85c9"
      },
      "execution_count": 29,
      "outputs": [
        {
          "output_type": "stream",
          "name": "stdout",
          "text": [
            "your p-value 0.9987938612609606\n",
            "Conclusion : your null hypothesis can be accepted, first test average is not less than second\n"
          ]
        }
      ]
    },
    {
      "cell_type": "markdown",
      "metadata": {
        "id": "y9mLTj4f9IxR"
      },
      "source": [
        "# 3. ANOVA"
      ]
    },
    {
      "cell_type": "markdown",
      "metadata": {
        "ExecuteTime": {
          "end_time": "2022-03-04T10:39:54.596339Z",
          "start_time": "2022-03-04T10:39:54.258227Z"
        },
        "id": "-8ImxoJL9IxR"
      },
      "source": [
        "Sekarang data tekanan darah (blood pressure) dari passien dibedakan menjadi 3 kelompok berdasarkan usianya. \n",
        "gunakan alpha = 5% untuk menentukan apakah tekanan darah setiap usia memiliki rata-rata yang serupa?."
      ]
    },
    {
      "cell_type": "code",
      "execution_count": 30,
      "metadata": {
        "id": "gjuZT-cS9IxS"
      },
      "outputs": [],
      "source": [
        "bp_after_age30_45 = [153, 170, 168, 142, 141, 147, 133, 141, 131, 125, 164, 159, 135, 159, 153, 126, 162, 134, 136, 150\n",
        "                     , 149, 142, 146, 138, 131, 145, 134, 135, 131, 135, 133, 135, 168, 144, 147, 151, 149, 147, 149, 135]\n",
        "\n",
        "bp_after_age46_59 = [168, 155, 136, 132, 160, 160, 136, 183, 152, 162, 151, 139, 175, 184, 151, 171, 157, 159, 140, 174\n",
        "                     , 127, 150, 138, 147, 157, 146, 148, 136, 146, 132, 145, 132, 157, 140, 137, 154, 169, 145, 137, 143]\n",
        "\n",
        "bp_after_age60_plus = [167, 158, 168, 159, 153, 164, 169, 148, 185, 163, 146, 160, 175, 163, 185, 146, 176, 147, 161, 164\n",
        "                       , 178, 141, 149, 148, 138, 143, 167, 158, 152, 154, 161, 143, 159, 177, 142, 152, 152, 174, 151, 163]"
      ]
    },
    {
      "cell_type": "code",
      "source": [
        "# select doubt level of alpha\n",
        "alpha = 0.05\n",
        "\n",
        "# calculate ANOVA\n",
        "stats.f_oneway(bp_after_age30_45, bp_after_age46_59, bp_after_age60_plus)\n"
      ],
      "metadata": {
        "colab": {
          "base_uri": "https://localhost:8080/"
        },
        "id": "u7jBCQSWQooo",
        "outputId": "a3078d43-150a-432b-a6cb-6fa2e9434331"
      },
      "execution_count": 31,
      "outputs": [
        {
          "output_type": "execute_result",
          "data": {
            "text/plain": [
              "F_onewayResult(statistic=12.868171507480215, pvalue=8.883841856433727e-06)"
            ]
          },
          "metadata": {},
          "execution_count": 31
        }
      ]
    },
    {
      "cell_type": "code",
      "source": [
        "# select doubt level of alpha\n",
        "alpha = 0.05\n",
        "\n",
        "# calculate ANOVA\n",
        "f_stat, pval = stats.f_oneway(bp_after_age30_45, bp_after_age46_59, bp_after_age60_plus)\n",
        "\n",
        "print(\"your p-value\", pval)\n",
        "\n",
        "h0 = \"semua tekanan darah setiap usia memiliki rata-rata yang serupa\"\n",
        "h1 = \"ada, setidaknya satu tekanan darah setiap usia yang memiliki rata-rata berbeda\"\n",
        "\n",
        "# Conclusion and comparison\n",
        "if pval>alpha/2:\n",
        "    print(\"accept h0 :\", h0)\n",
        "else:\n",
        "    print(\"reject h1 :\", h1)"
      ],
      "metadata": {
        "colab": {
          "base_uri": "https://localhost:8080/"
        },
        "id": "DBkJW6JiQ2TG",
        "outputId": "958c83a8-8bb9-4326-804b-5240618c1e15"
      },
      "execution_count": 32,
      "outputs": [
        {
          "output_type": "stream",
          "name": "stdout",
          "text": [
            "your p-value 8.883841856433727e-06\n",
            "reject h1 : ada, setidaknya satu tekanan darah setiap usia yang memiliki rata-rata berbeda\n"
          ]
        }
      ]
    }
  ],
  "metadata": {
    "kernelspec": {
      "display_name": "Python 3",
      "language": "python",
      "name": "python3"
    },
    "language_info": {
      "codemirror_mode": {
        "name": "ipython",
        "version": 3
      },
      "file_extension": ".py",
      "mimetype": "text/x-python",
      "name": "python",
      "nbconvert_exporter": "python",
      "pygments_lexer": "ipython3",
      "version": "3.7.3"
    },
    "latex_envs": {
      "LaTeX_envs_menu_present": true,
      "autoclose": false,
      "autocomplete": true,
      "bibliofile": "biblio.bib",
      "cite_by": "apalike",
      "current_citInitial": 1,
      "eqLabelWithNumbers": true,
      "eqNumInitial": 1,
      "hotkeys": {
        "equation": "Ctrl-E",
        "itemize": "Ctrl-I"
      },
      "labels_anchors": false,
      "latex_user_defs": false,
      "report_style_numbering": false,
      "user_envs_cfg": false
    },
    "colab": {
      "name": "Assignment_HypothesisTestingConcept.ipynb",
      "provenance": [],
      "collapsed_sections": []
    }
  },
  "nbformat": 4,
  "nbformat_minor": 0
}